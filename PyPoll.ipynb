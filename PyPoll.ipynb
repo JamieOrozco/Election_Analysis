{
 "cells": [
  {
   "cell_type": "code",
   "execution_count": 1,
   "id": "46962d5b-cfb7-4c0b-a8ff-a2e6b6740842",
   "metadata": {},
   "outputs": [],
   "source": [
    "# Open the data file.\n",
    "# Write down the names of all the candidates.\n",
    "# Add a vote count for each candidate.\n",
    "# Get the total votes for each candidate.\n",
    "# Get the total votes cast for the election."
   ]
  },
  {
   "cell_type": "code",
   "execution_count": 2,
   "id": "e7abb95f-b1e2-4605-9492-4acd6902d802",
   "metadata": {},
   "outputs": [
    {
     "name": "stdout",
     "output_type": "stream",
     "text": [
      "The time right now is  2022-01-11 12:15:19.096276\n"
     ]
    }
   ],
   "source": [
    "# Import the datetime class from the datetime module.\n",
    "import datetime as dt\n",
    "# Use the now() attribute on the datetime class to get the present time.\n",
    "now = dt.datetime.now()\n",
    "# Print the present time.\n",
    "print(\"The time right now is \", now)"
   ]
  },
  {
   "cell_type": "code",
   "execution_count": 3,
   "id": "f1e4b3cc-02ac-4815-ae05-d1fb2d381432",
   "metadata": {},
   "outputs": [],
   "source": [
    "import csv\n",
    "import os\n",
    "dir(csv) "
   ]
  },
  {
   "cell_type": "code",
   "execution_count": 5,
   "id": "ce4913b3-931e-4479-8a6d-135fd8b3ff6e",
   "metadata": {},
   "outputs": [],
   "source": [
    "# Assign a variable for the file to load and the path.\n",
    "file_to_load = 'Desktop/Election_Analysis/election_results.csv'"
   ]
  },
  {
   "cell_type": "code",
   "execution_count": 13,
   "id": "c0d88285-ea04-460f-9985-a78c4f2bc7d6",
   "metadata": {},
   "outputs": [
    {
     "name": "stdout",
     "output_type": "stream",
     "text": [
      "hi!\n"
     ]
    }
   ],
   "source": [
    "import os\n",
    "import csv\n",
    "dir (os)\n",
    "\n",
    "# Assign a variable for the file to load and the path.\n",
    "file_to_load = os.path.join(\"election_results.csv\")\n",
    "\n",
    "# Open the election results and read the file.\n",
    "with open(file_to_load) as election_data:\n",
    "    print(\"hi!\") "
   ]
  },
  {
   "cell_type": "code",
   "execution_count": 14,
   "id": "afddfc3e-91a1-4550-9edb-453fe44eb195",
   "metadata": {},
   "outputs": [],
   "source": [
    "# Initialize a total vote counter.\n",
    "total_votes = 0\n",
    "# Candidate options and candidate votes\n",
    "candidate_options = []\n",
    "candidate_votes = {}\n",
    "# Track the winning candidate, vote count, and percentage.\n",
    "winning_candidate = \"\"\n",
    "winning_count = 0\n",
    "winning_percentage = 0\n",
    "# Open the election results and read the file.\n",
    "with open(file_to_load) as election_data:\n",
    "    file_reader = csv.reader(election_data)\n",
    "    # Read the header row.\n",
    "    headers = next(file_reader)\n",
    "    # Print each row in the CSV file.\n",
    "    for row in file_reader:\n",
    "        # Add to the total vote count.\n",
    "        total_votes += 1\n",
    "        # Get the candidate name from each row.\n",
    "        candidate_name = row[2]\n",
    "        # If the candidate does not match any existing candidate add it the\n",
    "        # the candidate list.\n",
    "        if candidate_name not in candidate_options:\n",
    "            # Add the candidate name to the candidate list.\n",
    "            candidate_options.append(candidate_name)\n",
    "            # And begin tracking that candidate's voter count.\n",
    "            candidate_votes[candidate_name] = 0\n",
    "        # Add a vote to that candidate's count\n",
    "        candidate_votes[candidate_name] += 1\n",
    "\n"
   ]
  },
  {
   "cell_type": "code",
   "execution_count": 15,
   "id": "3968177e-7a9f-4084-9824-9313bc82d2f1",
   "metadata": {},
   "outputs": [
    {
     "name": "stdout",
     "output_type": "stream",
     "text": [
      "Charles Casper Stockham: 23.0% (85,213)\n",
      "\n",
      "Diana DeGette: 73.8% (272,892)\n",
      "\n",
      "Raymon Anthony Doane: 3.1% (11,606)\n",
      "\n",
      "-------------------------\n",
      "Winner: Diana DeGette\n",
      "Winning Vote Count: 272,892\n",
      "Winning Percentage: 73.8%\n",
      "-------------------------\n",
      "\n"
     ]
    }
   ],
   "source": [
    "for candidate_name in candidate_votes:\n",
    "    # Retrieve vote count and percentage.\n",
    "    votes = candidate_votes[candidate_name]\n",
    "    vote_percentage = float(votes) / float(total_votes) * 100\n",
    "    # Print each candidate, their voter count, and percentage to the\n",
    "    # terminal.\n",
    "    print(f\"{candidate_name}: {vote_percentage:.1f}% ({votes:,})\\n\")\n",
    "\n",
    "    # Determine winning vote count, winning percentage, and candidate.\n",
    "    if (votes > winning_count) and (vote_percentage > winning_percentage):\n",
    "        winning_count = votes\n",
    "        winning_candidate = candidate_name\n",
    "        winning_percentage = vote_percentage\n",
    "# Print the winning candidates' results to the terminal.\n",
    "winning_candidate_summary = (\n",
    "    f\"-------------------------\\n\"\n",
    "    f\"Winner: {winning_candidate}\\n\"\n",
    "    f\"Winning Vote Count: {winning_count:,}\\n\"\n",
    "    f\"Winning Percentage: {winning_percentage:.1f}%\\n\"\n",
    "    f\"-------------------------\\n\")\n",
    "\n",
    "print(winning_candidate_summary)"
   ]
  },
  {
   "cell_type": "code",
   "execution_count": null,
   "id": "e7f6d56b-5337-4136-88a5-03b2a330bd54",
   "metadata": {},
   "outputs": [],
   "source": []
  },
  {
   "cell_type": "code",
   "execution_count": null,
   "id": "fb2c0066-c435-4131-84e2-56725fa12c7a",
   "metadata": {},
   "outputs": [],
   "source": []
  },
  {
   "cell_type": "code",
   "execution_count": null,
   "id": "633247cd-c555-4002-b701-d17d3ba51850",
   "metadata": {},
   "outputs": [],
   "source": []
  },
  {
   "cell_type": "code",
   "execution_count": null,
   "id": "4d52f851-1dea-459a-afe6-14af84cbcb4e",
   "metadata": {},
   "outputs": [],
   "source": [
    "f"
   ]
  },
  {
   "cell_type": "code",
   "execution_count": null,
   "id": "dc3436d6-d445-497c-9ee9-6e19030504b4",
   "metadata": {},
   "outputs": [],
   "source": []
  }
 ],
 "metadata": {
  "kernelspec": {
   "display_name": "Python 3 (ipykernel)",
   "language": "python",
   "name": "python3"
  },
  "language_info": {
   "codemirror_mode": {
    "name": "ipython",
    "version": 3
   },
   "file_extension": ".py",
   "mimetype": "text/x-python",
   "name": "python",
   "nbconvert_exporter": "python",
   "pygments_lexer": "ipython3",
   "version": "3.9.7"
  }
 },
 "nbformat": 4,
 "nbformat_minor": 5
}
